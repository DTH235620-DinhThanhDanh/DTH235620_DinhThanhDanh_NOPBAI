Cho list
lst = [3, 0, 1, 5, 2]
x = 2
Hãy cho biết kết quả:
(a) lst[0]?
(b) lst[3]?
(c) lst[x]?
(d) lst[-x]?
(e) lst[x + 1]?
(f) lst[x] + 1?
(g) lst[lst[x]]?
(h) lst[lst[lst[x]]]?

lst[0] → 3
lst[1] → 0
lst[2] → 1
lst[3] → 5
lst[4] → 2
Chỉ số âm (-x) lấy từ cuối danh sách:
lst[-1] → 2
lst[-2] → 5
lst[-3] → 1

(a) lst[0]
→ Vị trí chỉ số 0 → 3
 Kết quả: 3

(b) lst[3]
→ Vị trí chỉ số 3 → 5
Kết quả: 5

(c) lst[x]
→ x = 2 ⇒ lst[2] → 1
Kết quả: 1

(d) lst[-x]
→ x = 2 ⇒ lst[-2] → tương đương lst[len(lst) - 2] → lst[3] → 5
Kết quả: 5

(e) lst[x + 1]
→ x = 2 ⇒ x + 1 = 3 ⇒ lst[3] = 5
Kết quả: 5

(f) lst[x] + 1
→ lst[2] = 1 ⇒ 1 + 1 = 2
Kết quả: 2

(g) lst[lst[x]]
→ x = 2 ⇒ lst[x] = lst[2] = 1
→ lst[1] = 0
Kết quả: 0

(h) lst[lst[lst[x]]]
→ x = 2
lst[x] = lst[2] = 1
lst[lst[x]] = lst[1] = 0
lst[lst[lst[x]]] = lst[0] = 3
Kết quả: 3